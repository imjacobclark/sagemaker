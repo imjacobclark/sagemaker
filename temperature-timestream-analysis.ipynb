{
 "cells": [
  {
   "cell_type": "code",
   "execution_count": null,
   "id": "liable-three",
   "metadata": {},
   "outputs": [],
   "source": [
    "import os\n",
    "import datetime\n",
    "import itertools\n",
    "\n",
    "import numpy as np\n",
    "import pandas as pd\n",
    "\n",
    "import matplotlib.pyplot as plt\n",
    "import matplotlib.ticker as plticker\n",
    "\n",
    "import boto3\n",
    "\n",
    "import sagemaker\n",
    "from sagemaker.amazon.common import RecordSerializer\n",
    "from sagemaker import RandomCutForest\n",
    "from sagemaker.serializers import CSVSerializer\n",
    "from sagemaker.deserializers import JSONDeserializer\n",
    "\n",
    "import matplotlib.pyplot as plt"
   ]
  },
  {
   "cell_type": "code",
   "execution_count": null,
   "id": "increasing-scheme",
   "metadata": {},
   "outputs": [],
   "source": [
    "client = boto3.client('timestream-query')\n",
    "%matplotlib inline"
   ]
  },
  {
   "cell_type": "code",
   "execution_count": null,
   "id": "lesbian-reform",
   "metadata": {},
   "outputs": [],
   "source": [
    "interval = \"1m\"\n",
    "period = '2d'"
   ]
  },
  {
   "cell_type": "code",
   "execution_count": null,
   "id": "exclusive-truck",
   "metadata": {},
   "outputs": [],
   "source": [
    "response = client.query(\n",
    "    QueryString='SELECT BIN(time, ' + interval +') AS BINNED_TIMESTAMP, ROUND(AVG(measure_value::double), 2) AS TEMPERATURE, ROOM as ROOM FROM \"TemperatureHistory\".\"TemperatureHistory\" WHERE measure_name = \\'TEMPERATURE\\' AND ROOM = \\'office\\' AND time > ago(' + period + ') GROUP BY measure_name, BIN(time, ' + interval + '), ROOM ORDER BY BINNED_TIMESTAMP ASC'\n",
    ")"
   ]
  },
  {
   "cell_type": "code",
   "execution_count": null,
   "id": "charged-lesbian",
   "metadata": {},
   "outputs": [],
   "source": [
    "time = []\n",
    "temperature = []\n",
    "\n",
    "for x in response['Rows']:\n",
    "    raw_date = x[\"Data\"][0][\"ScalarValue\"]\n",
    "    raw_temperature = x[\"Data\"][1][\"ScalarValue\"]\n",
    "    formatted_date = datetime.datetime.strptime(raw_date, \"%Y-%m-%d %H:%M:%S.%f000\")\n",
    "\n",
    "    temperature.append(raw_temperature)\n",
    "    time.append(str(formatted_date.day) + \"/\" + str(formatted_date.month) + \" \" + str(formatted_date.hour) + \":\" + str(formatted_date.minute))"
   ]
  },
  {
   "cell_type": "code",
   "execution_count": null,
   "id": "norwegian-certification",
   "metadata": {},
   "outputs": [],
   "source": [
    "print(\"Average temperature over this period: \" + str(sum([float(i) for i in temperature]) / len(temperature)) + \"oC\")\n",
    "print(\"Seen data points: \" + str(len(temperature)))"
   ]
  },
  {
   "cell_type": "code",
   "execution_count": null,
   "id": "resident-prairie",
   "metadata": {},
   "outputs": [],
   "source": [
    "float_temperatures = [float(temp) for temp in temperature]"
   ]
  },
  {
   "cell_type": "code",
   "execution_count": null,
   "id": "bored-square",
   "metadata": {},
   "outputs": [],
   "source": [
    "def plot_matplotlib(time, temp):\n",
    "    fig, ax = plt.subplots(figsize=(10, 6))\n",
    "\n",
    "    ax.yaxis.set_major_locator(plticker.MultipleLocator(0.2))\n",
    "    ax.xaxis.set_major_locator(plticker.MultipleLocator(720))\n",
    "\n",
    "    fig.autofmt_xdate()\n",
    "\n",
    "    ax.plot(time, temp, color='tab:orange', label='Temperature')\n",
    "\n",
    "    ax.set_xlabel('Date')\n",
    "    ax.set_ylabel('Temperature (oC)')\n",
    "    ax.set_title('Temperature over time')\n",
    "    ax.legend(loc='upper left');\n",
    "    \n",
    "plot_matplotlib(time, float_temperatures)"
   ]
  },
  {
   "cell_type": "code",
   "execution_count": null,
   "id": "handmade-rings",
   "metadata": {},
   "outputs": [],
   "source": [
    "temperature_time_series = zip(time, float_temperatures)"
   ]
  },
  {
   "cell_type": "code",
   "execution_count": null,
   "id": "working-logistics",
   "metadata": {},
   "outputs": [],
   "source": [
    "temperature_dataframe = pd.DataFrame(data=temperature_time_series)"
   ]
  },
  {
   "cell_type": "code",
   "execution_count": null,
   "id": "neural-fusion",
   "metadata": {},
   "outputs": [],
   "source": [
    "temperature_dataframe.plot(title=\"Temperature over time\")"
   ]
  },
  {
   "cell_type": "code",
   "execution_count": null,
   "id": "alleged-revision",
   "metadata": {},
   "outputs": [],
   "source": [
    "session = sagemaker.Session()"
   ]
  },
  {
   "cell_type": "code",
   "execution_count": null,
   "id": "sophisticated-intersection",
   "metadata": {},
   "outputs": [],
   "source": [
    "rcf = RandomCutForest(\n",
    "    role=sagemaker.get_execution_role(),\n",
    "    instance_count=1,\n",
    "    instance_type=\"ml.m4.xlarge\",\n",
    "    data_location=\"s3://xyz.jacobclark.sagemaker/sagemaker/randomcutforest\",\n",
    "    output_path=\"s3://xyz.jacobclark.sagemaker/sagemaker/randomcutforest/out\",\n",
    "    num_samples_per_tree=512,\n",
    "    num_trees=50,\n",
    ")\n",
    "\n",
    "temperature_dataframe_numpy = temperature_dataframe[1].to_numpy().reshape(-1, 1)\n",
    "\n",
    "record_set = rcf.record_set(temperature_dataframe_numpy)\n",
    "\n",
    "rcf.fit(record_set)"
   ]
  },
  {
   "cell_type": "code",
   "execution_count": null,
   "id": "amino-cambodia",
   "metadata": {},
   "outputs": [],
   "source": [
    "rcf_inference = rcf.deploy(\n",
    "    initial_instance_count=1, \n",
    "    instance_type=\"ml.m4.xlarge\"\n",
    ")"
   ]
  },
  {
   "cell_type": "code",
   "execution_count": null,
   "id": "indirect-bristol",
   "metadata": {},
   "outputs": [],
   "source": [
    "rcf_inference.serializer = CSVSerializer()\n",
    "rcf_inference.deserializer = JSONDeserializer()"
   ]
  },
  {
   "cell_type": "code",
   "execution_count": null,
   "id": "burning-windsor",
   "metadata": {},
   "outputs": [],
   "source": [
    "results = rcf_inference.predict(temperature_data_numpy)"
   ]
  },
  {
   "cell_type": "code",
   "execution_count": null,
   "id": "confident-asthma",
   "metadata": {},
   "outputs": [],
   "source": [
    "scores = [datum[\"score\"] for datum in results[\"scores\"]]"
   ]
  },
  {
   "cell_type": "code",
   "execution_count": null,
   "id": "answering-algeria",
   "metadata": {},
   "outputs": [],
   "source": [
    "temperature_dataframe[\"score\"] = pd.Series(scores, index=temperature_dataframe.index)\n",
    "\n",
    "score_mean = temperature_dataframe.score.mean()\n",
    "score_std = temperature_dataframe.score.std()\n",
    "\n",
    "# Temperatures between ~17.8 - ~24.8 are considered \"normal\" with a std deviation of 3\n",
    "std_deviations_to_cutoff_by = 3\n",
    "score_cutoff = score_mean + std_deviations_to_cutoff_by * score_std\n",
    "\n",
    "anomalies_dataframe = temperature_dataframe[temperature_dataframe['score'] > score_cutoff]"
   ]
  },
  {
   "cell_type": "code",
   "execution_count": null,
   "id": "photographic-constraint",
   "metadata": {},
   "outputs": [],
   "source": [
    "fig, ax1 = plt.subplots()\n",
    "ax2 = ax1.twinx()\n",
    "\n",
    "# Plot Temperature against Dates\n",
    "ax1.plot(temperature_dataframe[0], temperature_dataframe[1], alpha=0.8)\n",
    "\n",
    "# Plot Anomaly score data\n",
    "ax2.plot(temperature_dataframe['score'], color='C1')\n",
    "\n",
    "# Plot Anomalies that are higher than the standard deviation \n",
    "ax2.plot(anomalies_dataframe.index, anomalies_dataframe.score, 'ko')\n",
    "\n",
    "ax1.set_ylabel('Temperature Data', color='C0')\n",
    "ax1.tick_params('y', colors='C0')\n",
    "\n",
    "ax1.xaxis.set_major_locator(plticker.MultipleLocator(720))\n",
    "\n",
    "ax2.set_ylabel('Anomaly Score', color='C1')\n",
    "ax2.tick_params('y', colors='C1')\n",
    "\n",
    "fig.autofmt_xdate()\n",
    "fig.suptitle('Temperature data over time')\n",
    "plt.show()"
   ]
  },
  {
   "cell_type": "code",
   "execution_count": null,
   "id": "circular-output",
   "metadata": {},
   "outputs": [],
   "source": [
    "sagemaker.Session().delete_endpoint(rcf_inference.endpoint)"
   ]
  },
  {
   "cell_type": "code",
   "execution_count": null,
   "id": "imperial-discipline",
   "metadata": {},
   "outputs": [],
   "source": []
  }
 ],
 "metadata": {
  "kernelspec": {
   "display_name": "conda_python3",
   "language": "python",
   "name": "conda_python3"
  },
  "language_info": {
   "codemirror_mode": {
    "name": "ipython",
    "version": 3
   },
   "file_extension": ".py",
   "mimetype": "text/x-python",
   "name": "python",
   "nbconvert_exporter": "python",
   "pygments_lexer": "ipython3",
   "version": "3.6.13"
  }
 },
 "nbformat": 4,
 "nbformat_minor": 5
}
