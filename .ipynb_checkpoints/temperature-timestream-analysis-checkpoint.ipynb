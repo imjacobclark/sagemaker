{
 "cells": [
  {
   "cell_type": "code",
   "execution_count": 65,
   "id": "positive-plumbing",
   "metadata": {},
   "outputs": [],
   "source": [
    "import boto3\n",
    "import matplotlib.pyplot as plt\n",
    "import datetime"
   ]
  },
  {
   "cell_type": "code",
   "execution_count": 66,
   "id": "spiritual-characteristic",
   "metadata": {},
   "outputs": [],
   "source": [
    "client = boto3.client('timestream-query')\n",
    "%matplotlib inline"
   ]
  },
  {
   "cell_type": "code",
   "execution_count": 67,
   "id": "cooperative-democracy",
   "metadata": {},
   "outputs": [],
   "source": [
    "interval = \"1m\"\n",
    "period = '2d'"
   ]
  },
  {
   "cell_type": "code",
   "execution_count": 68,
   "id": "incorporate-blogger",
   "metadata": {},
   "outputs": [],
   "source": [
    "response = client.query(\n",
    "    QueryString='SELECT BIN(time, ' + interval +') AS BINNED_TIMESTAMP, ROUND(AVG(measure_value::double), 2) AS TEMPERATURE, ROOM as ROOM FROM \"TemperatureHistory\".\"TemperatureHistory\" WHERE measure_name = \\'TEMPERATURE\\' AND ROOM = \\'office\\' AND time > ago(' + period + ') GROUP BY measure_name, BIN(time, ' + interval + '), ROOM ORDER BY BINNED_TIMESTAMP ASC'\n",
    ")"
   ]
  },
  {
   "cell_type": "code",
   "execution_count": 69,
   "id": "arranged-bhutan",
   "metadata": {},
   "outputs": [],
   "source": [
    "time = []\n",
    "temperature = []\n",
    "\n",
    "for x in response['Rows']:\n",
    "    raw_date = x[\"Data\"][0][\"ScalarValue\"]\n",
    "    raw_temperature = x[\"Data\"][1][\"ScalarValue\"]\n",
    "    formatted_date = datetime.datetime.strptime(raw_date, \"%Y-%m-%d %H:%M:%S.%f000\")\n",
    "\n",
    "    temperature.append(raw_temperature)\n",
    "    time.append(str(formatted_date.hour) + \":\" + str(formatted_date.minute))"
   ]
  },
  {
   "cell_type": "code",
   "execution_count": 70,
   "id": "clinical-curtis",
   "metadata": {},
   "outputs": [
    {
     "name": "stdout",
     "output_type": "stream",
     "text": [
      "Average temperature over this period: 20.490848310567973oC\n",
      "Seen data points: 1391\n"
     ]
    }
   ],
   "source": [
    "print(\"Average temperature over this period: \" + str(sum([float(i) for i in temperature]) / len(temperature)) + \"oC\")\n",
    "print(\"Seen data points: \" + str(len(temperature)))"
   ]
  },
  {
   "cell_type": "code",
   "execution_count": null,
   "id": "chronic-lighter",
   "metadata": {},
   "outputs": [
    {
     "ename": "NameError",
     "evalue": "name 'axs' is not defined",
     "output_type": "error",
     "traceback": [
      "\u001b[0;31m---------------------------------------------------------------------------\u001b[0m",
      "\u001b[0;31mNameError\u001b[0m                                 Traceback (most recent call last)",
      "\u001b[0;32m<ipython-input-71-2844da1be467>\u001b[0m in \u001b[0;36m<module>\u001b[0;34m\u001b[0m\n\u001b[1;32m     13\u001b[0m \u001b[0max\u001b[0m\u001b[0;34m.\u001b[0m\u001b[0mset_title\u001b[0m\u001b[0;34m(\u001b[0m\u001b[0;34m'Temperature over time'\u001b[0m\u001b[0;34m)\u001b[0m\u001b[0;34m\u001b[0m\u001b[0;34m\u001b[0m\u001b[0m\n\u001b[1;32m     14\u001b[0m \u001b[0max\u001b[0m\u001b[0;34m.\u001b[0m\u001b[0mlegend\u001b[0m\u001b[0;34m(\u001b[0m\u001b[0mloc\u001b[0m\u001b[0;34m=\u001b[0m\u001b[0;34m'upper left'\u001b[0m\u001b[0;34m)\u001b[0m\u001b[0;34m;\u001b[0m\u001b[0;34m\u001b[0m\u001b[0;34m\u001b[0m\u001b[0m\n\u001b[0;32m---> 15\u001b[0;31m \u001b[0max\u001b[0m\u001b[0;34m.\u001b[0m\u001b[0mset_xticks\u001b[0m\u001b[0;34m(\u001b[0m\u001b[0maxs\u001b[0m\u001b[0;34m.\u001b[0m\u001b[0mget_xticks\u001b[0m\u001b[0;34m(\u001b[0m\u001b[0;34m)\u001b[0m\u001b[0;34m[\u001b[0m\u001b[0;34m:\u001b[0m\u001b[0;34m:\u001b[0m\u001b[0;36m2\u001b[0m\u001b[0;34m]\u001b[0m\u001b[0;34m)\u001b[0m\u001b[0;34m\u001b[0m\u001b[0;34m\u001b[0m\u001b[0m\n\u001b[0m",
      "\u001b[0;31mNameError\u001b[0m: name 'axs' is not defined"
     ]
    }
   ],
   "source": [
    "fig, ax = plt.subplots(figsize=(10, 6))\n",
    "\n",
    "plt.tight_layout()\n",
    "\n",
    "plt.gca().invert_yaxis() # For some reason temperature is descending, we want to flip that\n",
    "\n",
    "fig.autofmt_xdate()\n",
    "\n",
    "ax.plot(time, temperature, color='tab:orange', label='Temperature')\n",
    "\n",
    "ax.set_xlabel('Date')\n",
    "ax.set_ylabel('Temperature (oC)')\n",
    "ax.set_title('Temperature over time')\n",
    "ax.legend(loc='upper left');\n",
    "ax.set_xticks(axs.get_xticks()[::2])\n"
   ]
  },
  {
   "cell_type": "code",
   "execution_count": null,
   "id": "defensive-desire",
   "metadata": {},
   "outputs": [],
   "source": []
  }
 ],
 "metadata": {
  "kernelspec": {
   "display_name": "conda_python3",
   "language": "python",
   "name": "conda_python3"
  },
  "language_info": {
   "codemirror_mode": {
    "name": "ipython",
    "version": 3
   },
   "file_extension": ".py",
   "mimetype": "text/x-python",
   "name": "python",
   "nbconvert_exporter": "python",
   "pygments_lexer": "ipython3",
   "version": "3.6.13"
  }
 },
 "nbformat": 4,
 "nbformat_minor": 5
}
