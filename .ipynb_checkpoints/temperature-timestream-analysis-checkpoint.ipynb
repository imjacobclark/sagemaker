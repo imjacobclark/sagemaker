{
 "cells": [
  {
   "cell_type": "code",
   "execution_count": null,
   "id": "voluntary-mapping",
   "metadata": {},
   "outputs": [],
   "source": [
    "import os\n",
    "import datetime\n",
    "import itertools\n",
    "\n",
    "import numpy as np\n",
    "import pandas as pd\n",
    "\n",
    "import matplotlib.pyplot as plt\n",
    "import matplotlib.ticker as plticker\n",
    "\n",
    "import boto3\n",
    "\n",
    "import sagemaker\n",
    "from sagemaker.amazon.common import RecordSerializer\n",
    "from sagemaker import RandomCutForest\n",
    "from sagemaker.serializers import CSVSerializer\n",
    "from sagemaker.deserializers import JSONDeserializer\n",
    "\n",
    "import matplotlib.pyplot as plt"
   ]
  },
  {
   "cell_type": "code",
   "execution_count": null,
   "id": "cutting-steps",
   "metadata": {},
   "outputs": [],
   "source": [
    "client = boto3.client('timestream-query')\n",
    "%matplotlib inline"
   ]
  },
  {
   "cell_type": "code",
   "execution_count": null,
   "id": "charming-project",
   "metadata": {},
   "outputs": [],
   "source": [
    "interval = \"1m\"\n",
    "period = '2d'"
   ]
  },
  {
   "cell_type": "code",
   "execution_count": null,
   "id": "minor-commercial",
   "metadata": {},
   "outputs": [],
   "source": [
    "response = client.query(\n",
    "    QueryString='SELECT BIN(time, ' + interval +') AS BINNED_TIMESTAMP, ROUND(AVG(measure_value::double), 2) AS TEMPERATURE, ROOM as ROOM FROM \"TemperatureHistory\".\"TemperatureHistory\" WHERE measure_name = \\'TEMPERATURE\\' AND ROOM = \\'office\\' AND time > ago(' + period + ') GROUP BY measure_name, BIN(time, ' + interval + '), ROOM ORDER BY BINNED_TIMESTAMP ASC'\n",
    ")"
   ]
  },
  {
   "cell_type": "code",
   "execution_count": null,
   "id": "interpreted-savannah",
   "metadata": {},
   "outputs": [],
   "source": [
    "time = []\n",
    "temperature = []\n",
    "\n",
    "for x in response['Rows']:\n",
    "    raw_date = x[\"Data\"][0][\"ScalarValue\"]\n",
    "    raw_temperature = x[\"Data\"][1][\"ScalarValue\"]\n",
    "    formatted_date = datetime.datetime.strptime(raw_date, \"%Y-%m-%d %H:%M:%S.%f000\")\n",
    "\n",
    "    temperature.append(raw_temperature)\n",
    "    time.append(str(formatted_date.day) + \"/\" + str(formatted_date.month) + \" \" + str(formatted_date.hour) + \":\" + str(formatted_date.minute))"
   ]
  },
  {
   "cell_type": "code",
   "execution_count": null,
   "id": "sized-popularity",
   "metadata": {},
   "outputs": [],
   "source": [
    "print(\"Average temperature over this period: \" + str(sum([float(i) for i in temperature]) / len(temperature)) + \"oC\")\n",
    "print(\"Seen data points: \" + str(len(temperature)))"
   ]
  },
  {
   "cell_type": "code",
   "execution_count": null,
   "id": "south-mobile",
   "metadata": {},
   "outputs": [],
   "source": [
    "float_temperatures = [float(temp) for temp in temperature]"
   ]
  },
  {
   "cell_type": "code",
   "execution_count": null,
   "id": "seasonal-consequence",
   "metadata": {},
   "outputs": [],
   "source": [
    "def plot_matplotlib(time, temp):\n",
    "    fig, ax = plt.subplots(figsize=(10, 6))\n",
    "\n",
    "    ax.yaxis.set_major_locator(plticker.MultipleLocator(0.2))\n",
    "    ax.xaxis.set_major_locator(plticker.MultipleLocator(720))\n",
    "\n",
    "    fig.autofmt_xdate()\n",
    "\n",
    "    ax.plot(time, temp, color='tab:orange', label='Temperature')\n",
    "\n",
    "    ax.set_xlabel('Date')\n",
    "    ax.set_ylabel('Temperature (oC)')\n",
    "    ax.set_title('Temperature over time')\n",
    "    ax.legend(loc='upper left');\n",
    "    \n",
    "plot_matplotlib(time, float_temperatures)"
   ]
  },
  {
   "cell_type": "code",
   "execution_count": null,
   "id": "talented-transcription",
   "metadata": {},
   "outputs": [],
   "source": [
    "temperature_time_series = zip(time, float_temperatures)"
   ]
  },
  {
   "cell_type": "code",
   "execution_count": 55,
   "id": "stainless-chile",
   "metadata": {},
   "outputs": [
    {
     "ename": "KeyError",
     "evalue": "1",
     "output_type": "error",
     "traceback": [
      "\u001b[0;31m---------------------------------------------------------------------------\u001b[0m",
      "\u001b[0;31mKeyError\u001b[0m                                  Traceback (most recent call last)",
      "\u001b[0;32m~/anaconda3/envs/python3/lib/python3.6/site-packages/pandas/core/indexes/base.py\u001b[0m in \u001b[0;36mget_loc\u001b[0;34m(self, key, method, tolerance)\u001b[0m\n\u001b[1;32m   2897\u001b[0m             \u001b[0;32mtry\u001b[0m\u001b[0;34m:\u001b[0m\u001b[0;34m\u001b[0m\u001b[0;34m\u001b[0m\u001b[0m\n\u001b[0;32m-> 2898\u001b[0;31m                 \u001b[0;32mreturn\u001b[0m \u001b[0mself\u001b[0m\u001b[0;34m.\u001b[0m\u001b[0m_engine\u001b[0m\u001b[0;34m.\u001b[0m\u001b[0mget_loc\u001b[0m\u001b[0;34m(\u001b[0m\u001b[0mcasted_key\u001b[0m\u001b[0;34m)\u001b[0m\u001b[0;34m\u001b[0m\u001b[0;34m\u001b[0m\u001b[0m\n\u001b[0m\u001b[1;32m   2899\u001b[0m             \u001b[0;32mexcept\u001b[0m \u001b[0mKeyError\u001b[0m \u001b[0;32mas\u001b[0m \u001b[0merr\u001b[0m\u001b[0;34m:\u001b[0m\u001b[0;34m\u001b[0m\u001b[0;34m\u001b[0m\u001b[0m\n",
      "\u001b[0;32mpandas/_libs/index.pyx\u001b[0m in \u001b[0;36mpandas._libs.index.IndexEngine.get_loc\u001b[0;34m()\u001b[0m\n",
      "\u001b[0;32mpandas/_libs/index.pyx\u001b[0m in \u001b[0;36mpandas._libs.index.IndexEngine.get_loc\u001b[0;34m()\u001b[0m\n",
      "\u001b[0;32mpandas/_libs/hashtable_class_helper.pxi\u001b[0m in \u001b[0;36mpandas._libs.hashtable.PyObjectHashTable.get_item\u001b[0;34m()\u001b[0m\n",
      "\u001b[0;32mpandas/_libs/hashtable_class_helper.pxi\u001b[0m in \u001b[0;36mpandas._libs.hashtable.PyObjectHashTable.get_item\u001b[0;34m()\u001b[0m\n",
      "\u001b[0;31mKeyError\u001b[0m: 1",
      "\nThe above exception was the direct cause of the following exception:\n",
      "\u001b[0;31mKeyError\u001b[0m                                  Traceback (most recent call last)",
      "\u001b[0;32m<ipython-input-55-553832502b3c>\u001b[0m in \u001b[0;36m<module>\u001b[0;34m\u001b[0m\n\u001b[1;32m      1\u001b[0m \u001b[0mtemperature_dataframe\u001b[0m \u001b[0;34m=\u001b[0m \u001b[0mpd\u001b[0m\u001b[0;34m.\u001b[0m\u001b[0mDataFrame\u001b[0m\u001b[0;34m(\u001b[0m\u001b[0mdata\u001b[0m\u001b[0;34m=\u001b[0m\u001b[0mtemperature_time_series\u001b[0m\u001b[0;34m)\u001b[0m\u001b[0;34m\u001b[0m\u001b[0;34m\u001b[0m\u001b[0m\n\u001b[0;32m----> 2\u001b[0;31m \u001b[0mtemperature_dataframe_numpy\u001b[0m \u001b[0;34m=\u001b[0m \u001b[0mtemperature_dataframe\u001b[0m\u001b[0;34m[\u001b[0m\u001b[0;36m1\u001b[0m\u001b[0;34m]\u001b[0m\u001b[0;34m.\u001b[0m\u001b[0mto_numpy\u001b[0m\u001b[0;34m(\u001b[0m\u001b[0;34m)\u001b[0m\u001b[0;34m.\u001b[0m\u001b[0mreshape\u001b[0m\u001b[0;34m(\u001b[0m\u001b[0;34m-\u001b[0m\u001b[0;36m1\u001b[0m\u001b[0;34m,\u001b[0m \u001b[0;36m1\u001b[0m\u001b[0;34m)\u001b[0m\u001b[0;34m\u001b[0m\u001b[0;34m\u001b[0m\u001b[0m\n\u001b[0m",
      "\u001b[0;32m~/anaconda3/envs/python3/lib/python3.6/site-packages/pandas/core/frame.py\u001b[0m in \u001b[0;36m__getitem__\u001b[0;34m(self, key)\u001b[0m\n\u001b[1;32m   2904\u001b[0m             \u001b[0;32mif\u001b[0m \u001b[0mself\u001b[0m\u001b[0;34m.\u001b[0m\u001b[0mcolumns\u001b[0m\u001b[0;34m.\u001b[0m\u001b[0mnlevels\u001b[0m \u001b[0;34m>\u001b[0m \u001b[0;36m1\u001b[0m\u001b[0;34m:\u001b[0m\u001b[0;34m\u001b[0m\u001b[0;34m\u001b[0m\u001b[0m\n\u001b[1;32m   2905\u001b[0m                 \u001b[0;32mreturn\u001b[0m \u001b[0mself\u001b[0m\u001b[0;34m.\u001b[0m\u001b[0m_getitem_multilevel\u001b[0m\u001b[0;34m(\u001b[0m\u001b[0mkey\u001b[0m\u001b[0;34m)\u001b[0m\u001b[0;34m\u001b[0m\u001b[0;34m\u001b[0m\u001b[0m\n\u001b[0;32m-> 2906\u001b[0;31m             \u001b[0mindexer\u001b[0m \u001b[0;34m=\u001b[0m \u001b[0mself\u001b[0m\u001b[0;34m.\u001b[0m\u001b[0mcolumns\u001b[0m\u001b[0;34m.\u001b[0m\u001b[0mget_loc\u001b[0m\u001b[0;34m(\u001b[0m\u001b[0mkey\u001b[0m\u001b[0;34m)\u001b[0m\u001b[0;34m\u001b[0m\u001b[0;34m\u001b[0m\u001b[0m\n\u001b[0m\u001b[1;32m   2907\u001b[0m             \u001b[0;32mif\u001b[0m \u001b[0mis_integer\u001b[0m\u001b[0;34m(\u001b[0m\u001b[0mindexer\u001b[0m\u001b[0;34m)\u001b[0m\u001b[0;34m:\u001b[0m\u001b[0;34m\u001b[0m\u001b[0;34m\u001b[0m\u001b[0m\n\u001b[1;32m   2908\u001b[0m                 \u001b[0mindexer\u001b[0m \u001b[0;34m=\u001b[0m \u001b[0;34m[\u001b[0m\u001b[0mindexer\u001b[0m\u001b[0;34m]\u001b[0m\u001b[0;34m\u001b[0m\u001b[0;34m\u001b[0m\u001b[0m\n",
      "\u001b[0;32m~/anaconda3/envs/python3/lib/python3.6/site-packages/pandas/core/indexes/base.py\u001b[0m in \u001b[0;36mget_loc\u001b[0;34m(self, key, method, tolerance)\u001b[0m\n\u001b[1;32m   2898\u001b[0m                 \u001b[0;32mreturn\u001b[0m \u001b[0mself\u001b[0m\u001b[0;34m.\u001b[0m\u001b[0m_engine\u001b[0m\u001b[0;34m.\u001b[0m\u001b[0mget_loc\u001b[0m\u001b[0;34m(\u001b[0m\u001b[0mcasted_key\u001b[0m\u001b[0;34m)\u001b[0m\u001b[0;34m\u001b[0m\u001b[0;34m\u001b[0m\u001b[0m\n\u001b[1;32m   2899\u001b[0m             \u001b[0;32mexcept\u001b[0m \u001b[0mKeyError\u001b[0m \u001b[0;32mas\u001b[0m \u001b[0merr\u001b[0m\u001b[0;34m:\u001b[0m\u001b[0;34m\u001b[0m\u001b[0;34m\u001b[0m\u001b[0m\n\u001b[0;32m-> 2900\u001b[0;31m                 \u001b[0;32mraise\u001b[0m \u001b[0mKeyError\u001b[0m\u001b[0;34m(\u001b[0m\u001b[0mkey\u001b[0m\u001b[0;34m)\u001b[0m \u001b[0;32mfrom\u001b[0m \u001b[0merr\u001b[0m\u001b[0;34m\u001b[0m\u001b[0;34m\u001b[0m\u001b[0m\n\u001b[0m\u001b[1;32m   2901\u001b[0m \u001b[0;34m\u001b[0m\u001b[0m\n\u001b[1;32m   2902\u001b[0m         \u001b[0;32mif\u001b[0m \u001b[0mtolerance\u001b[0m \u001b[0;32mis\u001b[0m \u001b[0;32mnot\u001b[0m \u001b[0;32mNone\u001b[0m\u001b[0;34m:\u001b[0m\u001b[0;34m\u001b[0m\u001b[0;34m\u001b[0m\u001b[0m\n",
      "\u001b[0;31mKeyError\u001b[0m: 1"
     ]
    }
   ],
   "source": [
    "temperature_dataframe = pd.DataFrame(data=temperature_time_series)"
   ]
  },
  {
   "cell_type": "code",
   "execution_count": null,
   "id": "scenic-march",
   "metadata": {},
   "outputs": [],
   "source": [
    "temperature_dataframe.plot(title=\"Temperature over time\")"
   ]
  },
  {
   "cell_type": "code",
   "execution_count": null,
   "id": "veterinary-belfast",
   "metadata": {},
   "outputs": [],
   "source": [
    "session = sagemaker.Session()"
   ]
  },
  {
   "cell_type": "code",
   "execution_count": null,
   "id": "happy-duplicate",
   "metadata": {},
   "outputs": [],
   "source": [
    "rcf = RandomCutForest(\n",
    "    role=sagemaker.get_execution_role(),\n",
    "    instance_count=1,\n",
    "    instance_type=\"ml.m4.xlarge\",\n",
    "    data_location=\"s3://xyz.jacobclark.sagemaker/sagemaker/randomcutforest\",\n",
    "    output_path=\"s3://xyz.jacobclark.sagemaker/sagemaker/randomcutforest/out\",\n",
    "    num_samples_per_tree=512,\n",
    "    num_trees=50,\n",
    ")\n",
    "\n",
    "temperature_dataframe_numpy = temperature_dataframe[1].to_numpy().reshape(-1, 1)\n",
    "\n",
    "record_set = rcf.record_set(temperature_dataframe_numpy)\n",
    "\n",
    "rcf.fit(record_set)"
   ]
  },
  {
   "cell_type": "code",
   "execution_count": null,
   "id": "spread-truck",
   "metadata": {},
   "outputs": [],
   "source": [
    "rcf_inference = rcf.deploy(\n",
    "    initial_instance_count=1, \n",
    "    instance_type=\"ml.m4.xlarge\"\n",
    ")"
   ]
  },
  {
   "cell_type": "code",
   "execution_count": null,
   "id": "indian-tourism",
   "metadata": {},
   "outputs": [],
   "source": [
    "rcf_inference.serializer = CSVSerializer()\n",
    "rcf_inference.deserializer = JSONDeserializer()"
   ]
  },
  {
   "cell_type": "code",
   "execution_count": null,
   "id": "stylish-homework",
   "metadata": {},
   "outputs": [],
   "source": [
    "results = rcf_inference.predict(temperature_data_numpy)"
   ]
  },
  {
   "cell_type": "code",
   "execution_count": null,
   "id": "acceptable-criterion",
   "metadata": {},
   "outputs": [],
   "source": [
    "scores = [datum[\"score\"] for datum in results[\"scores\"]]"
   ]
  },
  {
   "cell_type": "code",
   "execution_count": null,
   "id": "italic-bangkok",
   "metadata": {},
   "outputs": [],
   "source": [
    "temperature_dataframe[\"score\"] = pd.Series(scores, index=temperature_dataframe.index)\n",
    "\n",
    "score_mean = temperature_dataframe.score.mean()\n",
    "score_std = temperature_dataframe.score.std()\n",
    "\n",
    "# Temperatures between ~17.8 - ~24.8 are considered \"normal\" with a std deviation of 3\n",
    "std_deviations_to_cutoff_by = 3\n",
    "score_cutoff = score_mean + std_deviations_to_cutoff_by * score_std\n",
    "\n",
    "anomalies_dataframe = temperature_dataframe[temperature_dataframe['score'] > score_cutoff]"
   ]
  },
  {
   "cell_type": "code",
   "execution_count": null,
   "id": "military-mustang",
   "metadata": {},
   "outputs": [],
   "source": [
    "fig, ax1 = plt.subplots()\n",
    "ax2 = ax1.twinx()\n",
    "\n",
    "# Plot Temperature against Dates\n",
    "ax1.plot(temperature_dataframe[0], temperature_dataframe[1], alpha=0.8)\n",
    "\n",
    "# Plot Anomaly score data\n",
    "ax2.plot(temperature_dataframe['score'], color='C1')\n",
    "\n",
    "# Plot Anomalies that are higher than the standard deviation \n",
    "ax2.plot(anomalies_dataframe.index, anomalies_dataframe.score, 'ko')\n",
    "\n",
    "ax1.set_ylabel('Temperature Data', color='C0')\n",
    "ax1.tick_params('y', colors='C0')\n",
    "\n",
    "ax1.xaxis.set_major_locator(plticker.MultipleLocator(720))\n",
    "\n",
    "ax2.set_ylabel('Anomaly Score', color='C1')\n",
    "ax2.tick_params('y', colors='C1')\n",
    "\n",
    "fig.autofmt_xdate()\n",
    "fig.suptitle('Temperature data over time')\n",
    "plt.show()"
   ]
  },
  {
   "cell_type": "code",
   "execution_count": null,
   "id": "banned-plaza",
   "metadata": {},
   "outputs": [],
   "source": [
    "sagemaker.Session().delete_endpoint(rcf_inference.endpoint)"
   ]
  },
  {
   "cell_type": "code",
   "execution_count": null,
   "id": "excited-ground",
   "metadata": {},
   "outputs": [],
   "source": []
  }
 ],
 "metadata": {
  "kernelspec": {
   "display_name": "conda_python3",
   "language": "python",
   "name": "conda_python3"
  },
  "language_info": {
   "codemirror_mode": {
    "name": "ipython",
    "version": 3
   },
   "file_extension": ".py",
   "mimetype": "text/x-python",
   "name": "python",
   "nbconvert_exporter": "python",
   "pygments_lexer": "ipython3",
   "version": "3.6.13"
  }
 },
 "nbformat": 4,
 "nbformat_minor": 5
}
